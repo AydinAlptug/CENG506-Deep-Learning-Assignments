{
  "nbformat": 4,
  "nbformat_minor": 0,
  "metadata": {
    "colab": {
      "name": "practical_1.ipynb",
      "provenance": [],
      "collapsed_sections": []
    },
    "kernelspec": {
      "name": "python3",
      "display_name": "Python 3"
    },
    "language_info": {
      "name": "python"
    }
  },
  "cells": [
    {
      "cell_type": "code",
      "metadata": {
        "id": "MbRdUxbjCliV"
      },
      "source": [
        "import torch\n",
        "import time"
      ],
      "execution_count": null,
      "outputs": []
    },
    {
      "cell_type": "code",
      "metadata": {
        "colab": {
          "base_uri": "https://localhost:8080/"
        },
        "id": "JC40cRIsCrsY",
        "outputId": "3cc63f5e-5430-4ac7-ae31-726fa3704e2b"
      },
      "source": [
        "# Question 1\n",
        "\n",
        "# My solution\n",
        "x = torch.full((13,13), 1)\n",
        "x[1,:] = 2\n",
        "x[6,:] = 2\n",
        "x[11,:] = 2\n",
        "\n",
        "x[:,2] = 2\n",
        "x[:,6] = 2\n",
        "x[:,11] = 2\n",
        "\n",
        "x[3:5, 3:5] = 3\n",
        "x[8:10, 8:10] = 3\n",
        "x[8:10, 3:5] = 3\n",
        "x[3:5, 8:10] = 3\n",
        "\n",
        "print(x)"
      ],
      "execution_count": null,
      "outputs": [
        {
          "output_type": "stream",
          "text": [
            "tensor([[1, 1, 2, 1, 1, 1, 2, 1, 1, 1, 1, 2, 1],\n",
            "        [2, 2, 2, 2, 2, 2, 2, 2, 2, 2, 2, 2, 2],\n",
            "        [1, 1, 2, 1, 1, 1, 2, 1, 1, 1, 1, 2, 1],\n",
            "        [1, 1, 2, 3, 3, 1, 2, 1, 3, 3, 1, 2, 1],\n",
            "        [1, 1, 2, 3, 3, 1, 2, 1, 3, 3, 1, 2, 1],\n",
            "        [1, 1, 2, 1, 1, 1, 2, 1, 1, 1, 1, 2, 1],\n",
            "        [2, 2, 2, 2, 2, 2, 2, 2, 2, 2, 2, 2, 2],\n",
            "        [1, 1, 2, 1, 1, 1, 2, 1, 1, 1, 1, 2, 1],\n",
            "        [1, 1, 2, 3, 3, 1, 2, 1, 3, 3, 1, 2, 1],\n",
            "        [1, 1, 2, 3, 3, 1, 2, 1, 3, 3, 1, 2, 1],\n",
            "        [1, 1, 2, 1, 1, 1, 2, 1, 1, 1, 1, 2, 1],\n",
            "        [2, 2, 2, 2, 2, 2, 2, 2, 2, 2, 2, 2, 2],\n",
            "        [1, 1, 2, 1, 1, 1, 2, 1, 1, 1, 1, 2, 1]])\n"
          ],
          "name": "stdout"
        }
      ]
    },
    {
      "cell_type": "code",
      "metadata": {
        "colab": {
          "base_uri": "https://localhost:8080/"
        },
        "id": "3IxREx2sF0LJ",
        "outputId": "f8eb60c8-3afd-44c9-baad-7e6ae5e2e41f"
      },
      "source": [
        "# Solution provided by Mustafa hoca \n",
        "\n",
        "x = torch.full((13, 13), 1)\n",
        "x[1::5,:] = 2\n",
        "x[:, 1::5] = 2\n",
        "x[3::5,3::5] = 3\n",
        "x[3::5,4::5] = 3\n",
        "x[4::5,3::5] = 3\n",
        "x[4::5,4::5] = 3\n",
        "x"
      ],
      "execution_count": null,
      "outputs": [
        {
          "output_type": "execute_result",
          "data": {
            "text/plain": [
              "tensor([[1, 2, 1, 1, 1, 1, 2, 1, 1, 1, 1, 2, 1],\n",
              "        [2, 2, 2, 2, 2, 2, 2, 2, 2, 2, 2, 2, 2],\n",
              "        [1, 2, 1, 1, 1, 1, 2, 1, 1, 1, 1, 2, 1],\n",
              "        [1, 2, 1, 3, 3, 1, 2, 1, 3, 3, 1, 2, 1],\n",
              "        [1, 2, 1, 3, 3, 1, 2, 1, 3, 3, 1, 2, 1],\n",
              "        [1, 2, 1, 1, 1, 1, 2, 1, 1, 1, 1, 2, 1],\n",
              "        [2, 2, 2, 2, 2, 2, 2, 2, 2, 2, 2, 2, 2],\n",
              "        [1, 2, 1, 1, 1, 1, 2, 1, 1, 1, 1, 2, 1],\n",
              "        [1, 2, 1, 3, 3, 1, 2, 1, 3, 3, 1, 2, 1],\n",
              "        [1, 2, 1, 3, 3, 1, 2, 1, 3, 3, 1, 2, 1],\n",
              "        [1, 2, 1, 1, 1, 1, 2, 1, 1, 1, 1, 2, 1],\n",
              "        [2, 2, 2, 2, 2, 2, 2, 2, 2, 2, 2, 2, 2],\n",
              "        [1, 2, 1, 1, 1, 1, 2, 1, 1, 1, 1, 2, 1]])"
            ]
          },
          "metadata": {
            "tags": []
          },
          "execution_count": 22
        }
      ]
    },
    {
      "cell_type": "code",
      "metadata": {
        "colab": {
          "base_uri": "https://localhost:8080/"
        },
        "id": "navQg62uGBBl",
        "outputId": "788dfd16-1e45-4b8d-fd17-0948abc553ea"
      },
      "source": [
        "# Solution found from github\n",
        "\n",
        "m = torch.full((13, 13), 1.0, dtype = torch.int8)\n",
        "\n",
        "m[3:5, 3:5] = 3\n",
        "m[8:10, 3:5] = 3\n",
        "m[3:5, 8:10] = 3\n",
        "m[8:10, 8:10] = 3\n",
        "\n",
        "m[:, 1::5] = 2\n",
        "m[1::5, :] = 2\n",
        "\n",
        "print(m)"
      ],
      "execution_count": null,
      "outputs": [
        {
          "output_type": "stream",
          "text": [
            "tensor([[1, 2, 1, 1, 1, 1, 2, 1, 1, 1, 1, 2, 1],\n",
            "        [2, 2, 2, 2, 2, 2, 2, 2, 2, 2, 2, 2, 2],\n",
            "        [1, 2, 1, 1, 1, 1, 2, 1, 1, 1, 1, 2, 1],\n",
            "        [1, 2, 1, 3, 3, 1, 2, 1, 3, 3, 1, 2, 1],\n",
            "        [1, 2, 1, 3, 3, 1, 2, 1, 3, 3, 1, 2, 1],\n",
            "        [1, 2, 1, 1, 1, 1, 2, 1, 1, 1, 1, 2, 1],\n",
            "        [2, 2, 2, 2, 2, 2, 2, 2, 2, 2, 2, 2, 2],\n",
            "        [1, 2, 1, 1, 1, 1, 2, 1, 1, 1, 1, 2, 1],\n",
            "        [1, 2, 1, 3, 3, 1, 2, 1, 3, 3, 1, 2, 1],\n",
            "        [1, 2, 1, 3, 3, 1, 2, 1, 3, 3, 1, 2, 1],\n",
            "        [1, 2, 1, 1, 1, 1, 2, 1, 1, 1, 1, 2, 1],\n",
            "        [2, 2, 2, 2, 2, 2, 2, 2, 2, 2, 2, 2, 2],\n",
            "        [1, 2, 1, 1, 1, 1, 2, 1, 1, 1, 1, 2, 1]], dtype=torch.int8)\n"
          ],
          "name": "stdout"
        }
      ]
    },
    {
      "cell_type": "code",
      "metadata": {
        "colab": {
          "base_uri": "https://localhost:8080/"
        },
        "id": "q1HyoID-GSd8",
        "outputId": "f3a27795-1a7b-4e7c-b32b-21f3d3bb0064"
      },
      "source": [
        "# Question 2\n",
        "\n",
        "M = torch.empty(20,20).normal_()\n",
        "inv_M = M.inverse()\n",
        "x = torch.diag(torch.arange(1,21,1), diagonal=0)\n",
        "print(x.size())\n",
        "\n",
        "x = x.float()\n",
        "\n",
        "temp = torch.mm(inv_M , x)\n",
        "temp = torch.mm(temp, M)\n",
        "result, _ = torch.eig(temp)\n",
        "\n",
        "print(result[:,0])\n"
      ],
      "execution_count": null,
      "outputs": [
        {
          "output_type": "stream",
          "text": [
            "torch.Size([20, 20])\n",
            "tensor([20.0000, 19.0000,  1.0000,  2.0000,  3.0000,  4.0000, 18.0000, 17.0000,\n",
            "        16.0000,  5.0000, 15.0000,  6.0000, 14.0000,  7.0000,  8.0000, 13.0000,\n",
            "        12.0000,  9.0000, 10.0000, 11.0000])\n"
          ],
          "name": "stdout"
        }
      ]
    },
    {
      "cell_type": "code",
      "metadata": {
        "colab": {
          "base_uri": "https://localhost:8080/"
        },
        "id": "NHYLJfdELdgO",
        "outputId": "b294340c-c73d-410f-ae92-05023efdfddc"
      },
      "source": [
        "# Solution provided by Mustafa hoca\n",
        "\n",
        "M = torch.empty(20, 20).normal_()\n",
        "D = torch.diag(torch.arange(1, 21, dtype=torch.float))\n",
        "A = torch.mm(torch.mm(torch.inverse(M), D), M)\n",
        "e, _ = torch.eig(A)\n",
        "e[:,0]"
      ],
      "execution_count": null,
      "outputs": [
        {
          "output_type": "execute_result",
          "data": {
            "text/plain": [
              "tensor([20.0000, 19.0000, 18.0000,  1.0000,  2.0001, 17.0000,  3.0000, 16.0000,\n",
              "         4.0000, 15.0000, 14.0000, 13.0000, 11.9999,  5.0000,  6.0000,  7.0000,\n",
              "        11.0000, 10.0000,  8.0000,  9.0000])"
            ]
          },
          "metadata": {
            "tags": []
          },
          "execution_count": 52
        }
      ]
    },
    {
      "cell_type": "code",
      "metadata": {
        "colab": {
          "base_uri": "https://localhost:8080/"
        },
        "id": "J9VexYG6MLnd",
        "outputId": "76a77e01-10b8-4446-cb61-a21b6612d488"
      },
      "source": [
        " # Question 3\n",
        "  \n",
        "import time\n",
        "\n",
        "M1 = torch.empty(5000,5000).normal_()\n",
        "M2 = torch.empty(5000,5000).normal_()\n",
        "\n",
        "start = time.perf_counter()\n",
        "product = torch.mm(M1, M2)\n",
        "end = time.perf_counter()\n",
        "\n",
        "dt = end - start\n",
        "print(dt)\n",
        "\n",
        "print('Elapsed time is {:.2f} sec. / {:.2f} GFLOPS'.format(dt, 5000 ** 3 / dt / 1e9)) ## I took this line from the solution given by Mustafa hoca "
      ],
      "execution_count": null,
      "outputs": [
        {
          "output_type": "stream",
          "text": [
            "3.671342400999947\n",
            "Elapsed time is 3.67 sec. / 34.05 GFLOPS\n"
          ],
          "name": "stdout"
        }
      ]
    },
    {
      "cell_type": "code",
      "metadata": {
        "colab": {
          "base_uri": "https://localhost:8080/"
        },
        "id": "cTIoz_VrPZgE",
        "outputId": "f8c28022-0ac3-4544-b6e5-a91b0612e01a"
      },
      "source": [
        "# solution from github for the estimating floating point products have been executed per second\n",
        "\n",
        "result = (M1.size(0)**3 ) / dt\n",
        "print(result / 1000000000) # 1 gigaFLOPS (GFLOPS) means 10^9 floating-point operations per second. "
      ],
      "execution_count": null,
      "outputs": [
        {
          "output_type": "stream",
          "text": [
            "34.23470760438363\n"
          ],
          "name": "stdout"
        }
      ]
    },
    {
      "cell_type": "code",
      "metadata": {
        "colab": {
          "base_uri": "https://localhost:8080/"
        },
        "id": "mc6OSko3LhDw",
        "outputId": "be487064-25e5-4ee3-d184-e01ad71bd7da"
      },
      "source": [
        "# Solution provided by Mustafa hoca\n",
        "\n",
        "n = 5000\n",
        "A = torch.empty(n, n).normal_()\n",
        "B = torch.empty(n, n).normal_()\n",
        "start = time.perf_counter()\n",
        "C = torch.mm(A, B)\n",
        "stop = time.perf_counter()\n",
        "dt = stop - start\n",
        "print('Elapsed time is {:.2f} sec. / {:.2f} GFLOPS'.format(dt, n ** 3 / dt / 1e9))"
      ],
      "execution_count": null,
      "outputs": [
        {
          "output_type": "stream",
          "text": [
            "Elapsed time is 3.71 sec. / 33.69 GFLOPS\n"
          ],
          "name": "stdout"
        }
      ]
    },
    {
      "cell_type": "code",
      "metadata": {
        "colab": {
          "base_uri": "https://localhost:8080/"
        },
        "id": "UdCbW-breE41",
        "outputId": "2daf6dfb-b22d-4311-99a5-fb12e7197925"
      },
      "source": [
        "# My solution\n",
        "\n",
        "def mul_row(tensor_2d):\n",
        "  for i in range(1, tensor_2d.size(0) ): # list(tensor_2d.size())[0]\n",
        "    #tensor_2d[i] *= i+1\n",
        "    for j in range(0,tensor_2d.size(1)):\n",
        "      tensor_2d[i][j] *= i+1 \n",
        "  return tensor_2d\n",
        "\n",
        "m = torch.full((4, 8), 2.0)\n",
        "m\n",
        "\n",
        "mul_row(m) "
      ],
      "execution_count": null,
      "outputs": [
        {
          "output_type": "execute_result",
          "data": {
            "text/plain": [
              "tensor([[2., 2., 2., 2., 2., 2., 2., 2.],\n",
              "        [4., 4., 4., 4., 4., 4., 4., 4.],\n",
              "        [6., 6., 6., 6., 6., 6., 6., 6.],\n",
              "        [8., 8., 8., 8., 8., 8., 8., 8.]])"
            ]
          },
          "metadata": {
            "tags": []
          },
          "execution_count": 90
        }
      ]
    },
    {
      "cell_type": "code",
      "metadata": {
        "colab": {
          "base_uri": "https://localhost:8080/"
        },
        "id": "EnoHRZyTlEYs",
        "outputId": "abba8500-f971-4d0b-86c1-e3edefd6e725"
      },
      "source": [
        "m = torch.full((4, 8), 2.0)\n",
        "m\n",
        "\n",
        "def mul_row_fast(tensor_2d):\n",
        "  coef = torch.arange(1,tensor_2d.size(0)+1,1).float()\n",
        "  # torch.unsqueeze: Returns a new tensor with a dimension of size one inserted at the specified position. 1 -> as column, 0 -> as row\n",
        "  coef = torch.unsqueeze(coef, 1) \n",
        "  tensor_2d = tensor_2d * coef\n",
        "  #tensor_2d = tensor_2d.view(2,-1)\n",
        "  return tensor_2d\n",
        "\n",
        "mul_row_fast(m)"
      ],
      "execution_count": null,
      "outputs": [
        {
          "output_type": "execute_result",
          "data": {
            "text/plain": [
              "tensor([[2., 2., 2., 2., 2., 2., 2., 2.],\n",
              "        [4., 4., 4., 4., 4., 4., 4., 4.],\n",
              "        [6., 6., 6., 6., 6., 6., 6., 6.],\n",
              "        [8., 8., 8., 8., 8., 8., 8., 8.]])"
            ]
          },
          "metadata": {
            "tags": []
          },
          "execution_count": 77
        }
      ]
    },
    {
      "cell_type": "code",
      "metadata": {
        "colab": {
          "base_uri": "https://localhost:8080/"
        },
        "id": "tDptfOCUmiBx",
        "outputId": "01b1edbb-bd38-436a-b25a-ccc9068cd825"
      },
      "source": [
        "m = torch.full((1000, 400), 2.0)\n",
        "\n",
        "start = time.perf_counter()\n",
        "mul_row(m)\n",
        "stop = time.perf_counter()\n",
        "dt1 = stop - start\n",
        "\n",
        "dt1\n"
      ],
      "execution_count": null,
      "outputs": [
        {
          "output_type": "execute_result",
          "data": {
            "text/plain": [
              "3.7848212100002456"
            ]
          },
          "metadata": {
            "tags": []
          },
          "execution_count": 91
        }
      ]
    },
    {
      "cell_type": "code",
      "metadata": {
        "colab": {
          "base_uri": "https://localhost:8080/"
        },
        "id": "0LpKESkQm75_",
        "outputId": "e9ef5d5c-1946-4dc0-b51f-a85ca4ee500c"
      },
      "source": [
        "m = torch.full((1000, 400), 2.0)\n",
        "\n",
        "start = time.perf_counter()\n",
        "mul_row_fast(m)\n",
        "stop = time.perf_counter()\n",
        "dt2 = stop - start\n",
        "\n",
        "dt2"
      ],
      "execution_count": null,
      "outputs": [
        {
          "output_type": "execute_result",
          "data": {
            "text/plain": [
              "0.000549476000287541"
            ]
          },
          "metadata": {
            "tags": []
          },
          "execution_count": 92
        }
      ]
    },
    {
      "cell_type": "code",
      "metadata": {
        "colab": {
          "base_uri": "https://localhost:8080/"
        },
        "id": "pQ9EJjEFnR43",
        "outputId": "46537299-a96a-4d19-d2ed-1a6aa78c2e32"
      },
      "source": [
        "if(dt1 > 100 * dt2):\n",
        "  print(\"Success!\")"
      ],
      "execution_count": null,
      "outputs": [
        {
          "output_type": "stream",
          "text": [
            "Success!\n"
          ],
          "name": "stdout"
        }
      ]
    },
    {
      "cell_type": "code",
      "metadata": {
        "colab": {
          "base_uri": "https://localhost:8080/"
        },
        "id": "SB8ewPVjn8XG",
        "outputId": "ad01a447-4d02-4d31-f6f3-bc34b58c2d13"
      },
      "source": [
        "# Solution from Mustafa hoca\n",
        "\n",
        "def mul_row(A):\n",
        "    m, n = A.shape\n",
        "    B = torch.empty(m, n)\n",
        "    for i in range(m):\n",
        "        for j in range(n):\n",
        "            B[i, j] = (i+1) * A[0, j]\n",
        "    return B\n",
        "\n",
        "def mul_row_fast(A):\n",
        "    m, n = A.shape\n",
        "    return torch.mul(torch.arange(m)[:, None] + 1, A[0, :])\n",
        "\n",
        "m = torch.full((1000, 400), 2.0)\n",
        "\n",
        "start = time.perf_counter()\n",
        "mul_row(m)\n",
        "stop = time.perf_counter()\n",
        "dt1 = stop - start\n",
        "\n",
        "print(dt1)\n",
        "\n",
        "m = torch.full((1000, 400), 2.0)\n",
        "\n",
        "start = time.perf_counter()\n",
        "mul_row_fast(m)\n",
        "stop = time.perf_counter()\n",
        "dt2 = stop - start\n",
        "\n",
        "print(dt2)\n",
        "\n",
        "if(dt1 > 100 * dt2):\n",
        "  print(\"Success!\")"
      ],
      "execution_count": null,
      "outputs": [
        {
          "output_type": "stream",
          "text": [
            "4.461306100999991\n",
            "0.0005442669998956262\n",
            "Success!\n"
          ],
          "name": "stdout"
        }
      ]
    },
    {
      "cell_type": "code",
      "metadata": {
        "colab": {
          "base_uri": "https://localhost:8080/"
        },
        "id": "SHAT3lAyow-u",
        "outputId": "9d3f50c9-9c75-43ce-ae03-daa4b8772e21"
      },
      "source": [
        "# fast mult method found from github\n",
        "\n",
        "def mul_row_fast(matrix):\n",
        "    num_of_rows = matrix.size(0)\n",
        "    new_vec = torch.arange(1, num_of_rows + 1).float()\n",
        "    new = new_vec.view( num_of_rows,1  )\n",
        "    result = matrix.mul(  new)\n",
        "    return result\n",
        "\n",
        "m = torch.full((1000, 400), 2.0)\n",
        "\n",
        "start = time.perf_counter()\n",
        "mul_row_fast(m)\n",
        "stop = time.perf_counter()\n",
        "dt2 = stop - start\n",
        "\n",
        "dt2"
      ],
      "execution_count": null,
      "outputs": [
        {
          "output_type": "execute_result",
          "data": {
            "text/plain": [
              "0.0006213289998413529"
            ]
          },
          "metadata": {
            "tags": []
          },
          "execution_count": 95
        }
      ]
    },
    {
      "cell_type": "code",
      "metadata": {
        "colab": {
          "base_uri": "https://localhost:8080/"
        },
        "id": "-5Nx8Im7Xoxr",
        "outputId": "8d1c9f85-4500-48d5-cdb5-60405983aba3"
      },
      "source": [
        "# Ek bilgi\n",
        "\n",
        "x = torch.arange(8) # 1 row matrix\n",
        "x[:, None] # torch.arange(8)[:, None] # to convert it to column matrix"
      ],
      "execution_count": null,
      "outputs": [
        {
          "output_type": "execute_result",
          "data": {
            "text/plain": [
              "tensor([[0],\n",
              "        [1],\n",
              "        [2],\n",
              "        [3],\n",
              "        [4],\n",
              "        [5],\n",
              "        [6],\n",
              "        [7]])"
            ]
          },
          "metadata": {
            "tags": []
          },
          "execution_count": 6
        }
      ]
    }
  ]
}